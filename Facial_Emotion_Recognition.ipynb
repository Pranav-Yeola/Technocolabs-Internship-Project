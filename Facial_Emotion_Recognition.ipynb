{
  "nbformat": 4,
  "nbformat_minor": 0,
  "metadata": {
    "colab": {
      "name": "Facial_Emotion_Recognition",
      "provenance": [],
      "collapsed_sections": []
    },
    "kernelspec": {
      "name": "python3",
      "display_name": "Python 3"
    },
    "accelerator": "GPU"
  },
  "cells": [
    {
      "cell_type": "markdown",
      "metadata": {
        "id": "x_hd63mudOC8"
      },
      "source": [
        "# Mount Drive"
      ]
    },
    {
      "cell_type": "code",
      "metadata": {
        "id": "KWW0UGQdcVgW",
        "colab": {
          "base_uri": "https://localhost:8080/",
          "height": 34
        },
        "outputId": "8a314f5f-802d-4a8d-ab63-d7ea49889fed"
      },
      "source": [
        "from google.colab import drive\n",
        "drive.mount('/content/drive')"
      ],
      "execution_count": null,
      "outputs": [
        {
          "output_type": "stream",
          "text": [
            "Mounted at /content/drive\n"
          ],
          "name": "stdout"
        }
      ]
    },
    {
      "cell_type": "markdown",
      "metadata": {
        "id": "4wbdvaAUcl4A"
      },
      "source": [
        "# Load Data"
      ]
    },
    {
      "cell_type": "code",
      "metadata": {
        "id": "6QLx2NlUYLI-",
        "colab": {
          "base_uri": "https://localhost:8080/",
          "height": 84
        },
        "outputId": "f37f6626-8d2b-4435-deba-a3004749e684"
      },
      "source": [
        "import numpy as np\n",
        "import pandas as pd\n",
        "import io\n",
        "import matplotlib.pyplot as plt\n",
        "import seaborn as sns\n",
        "\n",
        "data=pd.read_csv('/content/drive/My Drive/fer2013.csv')\n",
        "\n",
        "#checking usage value\n",
        "data.Usage.value_counts()"
      ],
      "execution_count": null,
      "outputs": [
        {
          "output_type": "execute_result",
          "data": {
            "text/plain": [
              "Training       28709\n",
              "PrivateTest     3589\n",
              "PublicTest      3589\n",
              "Name: Usage, dtype: int64"
            ]
          },
          "metadata": {
            "tags": []
          },
          "execution_count": 3
        }
      ]
    },
    {
      "cell_type": "markdown",
      "metadata": {
        "id": "5u76n83ykmIz"
      },
      "source": [
        "# Data Overview"
      ]
    },
    {
      "cell_type": "code",
      "metadata": {
        "id": "W30wsHWLkdl-",
        "colab": {
          "base_uri": "https://localhost:8080/",
          "height": 195
        },
        "outputId": "325b43b9-9af3-4e9a-f5eb-078154c58b95"
      },
      "source": [
        "#preview first 5 row of data\n",
        "data.head(5)"
      ],
      "execution_count": null,
      "outputs": [
        {
          "output_type": "execute_result",
          "data": {
            "text/html": [
              "<div>\n",
              "<style scoped>\n",
              "    .dataframe tbody tr th:only-of-type {\n",
              "        vertical-align: middle;\n",
              "    }\n",
              "\n",
              "    .dataframe tbody tr th {\n",
              "        vertical-align: top;\n",
              "    }\n",
              "\n",
              "    .dataframe thead th {\n",
              "        text-align: right;\n",
              "    }\n",
              "</style>\n",
              "<table border=\"1\" class=\"dataframe\">\n",
              "  <thead>\n",
              "    <tr style=\"text-align: right;\">\n",
              "      <th></th>\n",
              "      <th>emotion</th>\n",
              "      <th>pixels</th>\n",
              "      <th>Usage</th>\n",
              "    </tr>\n",
              "  </thead>\n",
              "  <tbody>\n",
              "    <tr>\n",
              "      <th>0</th>\n",
              "      <td>0</td>\n",
              "      <td>70 80 82 72 58 58 60 63 54 58 60 48 89 115 121...</td>\n",
              "      <td>Training</td>\n",
              "    </tr>\n",
              "    <tr>\n",
              "      <th>1</th>\n",
              "      <td>0</td>\n",
              "      <td>151 150 147 155 148 133 111 140 170 174 182 15...</td>\n",
              "      <td>Training</td>\n",
              "    </tr>\n",
              "    <tr>\n",
              "      <th>2</th>\n",
              "      <td>2</td>\n",
              "      <td>231 212 156 164 174 138 161 173 182 200 106 38...</td>\n",
              "      <td>Training</td>\n",
              "    </tr>\n",
              "    <tr>\n",
              "      <th>3</th>\n",
              "      <td>4</td>\n",
              "      <td>24 32 36 30 32 23 19 20 30 41 21 22 32 34 21 1...</td>\n",
              "      <td>Training</td>\n",
              "    </tr>\n",
              "    <tr>\n",
              "      <th>4</th>\n",
              "      <td>6</td>\n",
              "      <td>4 0 0 0 0 0 0 0 0 0 0 0 3 15 23 28 48 50 58 84...</td>\n",
              "      <td>Training</td>\n",
              "    </tr>\n",
              "  </tbody>\n",
              "</table>\n",
              "</div>"
            ],
            "text/plain": [
              "   emotion                                             pixels     Usage\n",
              "0        0  70 80 82 72 58 58 60 63 54 58 60 48 89 115 121...  Training\n",
              "1        0  151 150 147 155 148 133 111 140 170 174 182 15...  Training\n",
              "2        2  231 212 156 164 174 138 161 173 182 200 106 38...  Training\n",
              "3        4  24 32 36 30 32 23 19 20 30 41 21 22 32 34 21 1...  Training\n",
              "4        6  4 0 0 0 0 0 0 0 0 0 0 0 3 15 23 28 48 50 58 84...  Training"
            ]
          },
          "metadata": {
            "tags": []
          },
          "execution_count": 4
        }
      ]
    },
    {
      "cell_type": "code",
      "metadata": {
        "id": "jMvarAUqk2tE",
        "colab": {
          "base_uri": "https://localhost:8080/",
          "height": 254
        },
        "outputId": "1f87d55c-b4e7-4339-9db7-edf080fcffa3"
      },
      "source": [
        "#Target labels count\n",
        "emotion_map = {0: 'Angry', 1: 'Digust', 2: 'Fear', 3: 'Happy', 4: 'Sad', 5: 'Surprise', 6: 'Neutral'}\n",
        "emotion_counts = data['emotion'].value_counts(sort=False).reset_index()\n",
        "emotion_counts.columns = ['emotion', 'number']\n",
        "emotion_counts['emotion'] = emotion_counts['emotion'].map(emotion_map)\n",
        "emotion_counts"
      ],
      "execution_count": null,
      "outputs": [
        {
          "output_type": "execute_result",
          "data": {
            "text/html": [
              "<div>\n",
              "<style scoped>\n",
              "    .dataframe tbody tr th:only-of-type {\n",
              "        vertical-align: middle;\n",
              "    }\n",
              "\n",
              "    .dataframe tbody tr th {\n",
              "        vertical-align: top;\n",
              "    }\n",
              "\n",
              "    .dataframe thead th {\n",
              "        text-align: right;\n",
              "    }\n",
              "</style>\n",
              "<table border=\"1\" class=\"dataframe\">\n",
              "  <thead>\n",
              "    <tr style=\"text-align: right;\">\n",
              "      <th></th>\n",
              "      <th>emotion</th>\n",
              "      <th>number</th>\n",
              "    </tr>\n",
              "  </thead>\n",
              "  <tbody>\n",
              "    <tr>\n",
              "      <th>0</th>\n",
              "      <td>Angry</td>\n",
              "      <td>4953</td>\n",
              "    </tr>\n",
              "    <tr>\n",
              "      <th>1</th>\n",
              "      <td>Digust</td>\n",
              "      <td>547</td>\n",
              "    </tr>\n",
              "    <tr>\n",
              "      <th>2</th>\n",
              "      <td>Fear</td>\n",
              "      <td>5121</td>\n",
              "    </tr>\n",
              "    <tr>\n",
              "      <th>3</th>\n",
              "      <td>Happy</td>\n",
              "      <td>8989</td>\n",
              "    </tr>\n",
              "    <tr>\n",
              "      <th>4</th>\n",
              "      <td>Sad</td>\n",
              "      <td>6077</td>\n",
              "    </tr>\n",
              "    <tr>\n",
              "      <th>5</th>\n",
              "      <td>Surprise</td>\n",
              "      <td>4002</td>\n",
              "    </tr>\n",
              "    <tr>\n",
              "      <th>6</th>\n",
              "      <td>Neutral</td>\n",
              "      <td>6198</td>\n",
              "    </tr>\n",
              "  </tbody>\n",
              "</table>\n",
              "</div>"
            ],
            "text/plain": [
              "    emotion  number\n",
              "0     Angry    4953\n",
              "1    Digust     547\n",
              "2      Fear    5121\n",
              "3     Happy    8989\n",
              "4       Sad    6077\n",
              "5  Surprise    4002\n",
              "6   Neutral    6198"
            ]
          },
          "metadata": {
            "tags": []
          },
          "execution_count": 5
        }
      ]
    },
    {
      "cell_type": "code",
      "metadata": {
        "id": "8M80MrAsk3C0",
        "colab": {
          "base_uri": "https://localhost:8080/",
          "height": 298
        },
        "outputId": "19883ca5-7d2e-4e0e-a2e5-91c9e83c75b0"
      },
      "source": [
        "#Plot Visualization\n",
        "plt.figure(figsize=(6,4))\n",
        "sns.barplot(x=emotion_counts.emotion, y=emotion_counts.number)\n",
        "plt.title('Class distribution')\n",
        "plt.ylabel('Number', fontsize=12)\n",
        "plt.xlabel('Emotions', fontsize=12)\n",
        "plt.show()"
      ],
      "execution_count": null,
      "outputs": [
        {
          "output_type": "display_data",
          "data": {
            "image/png": "[encoded data removed]",
            "text/plain": [
              "<Figure size 432x288 with 1 Axes>"
            ]
          },
          "metadata": {
            "tags": [],
            "needs_background": "light"
          }
        }
      ]
    },
    {
      "cell_type": "code",
      "metadata": {
        "id": "z27a7QBAl3jE",
        "colab": {
          "base_uri": "https://localhost:8080/",
          "height": 84
        },
        "outputId": "7eb073f4-7260-4671-ab4b-edbbbb9e5f2b"
      },
      "source": [
        "# Splitting and reshaping pixels\n",
        "face = data[data['emotion'] == 0].iloc[0]\n",
        "print(face)"
      ],
      "execution_count": null,
      "outputs": [
        {
          "output_type": "stream",
          "text": [
            "emotion                                                    0\n",
            "pixels     70 80 82 72 58 58 60 63 54 58 60 48 89 115 121...\n",
            "Usage                                               Training\n",
            "Name: 0, dtype: object\n"
          ],
          "name": "stdout"
        }
      ]
    },
    {
      "cell_type": "code",
      "metadata": {
        "id": "fviSNcvxl4DW",
        "colab": {
          "base_uri": "https://localhost:8080/",
          "height": 34
        },
        "outputId": "9b5205c8-78e9-4e03-f7de-afbbcd82ac11"
      },
      "source": [
        "img=np.array(face['pixels'].split())\n",
        "print(img)"
      ],
      "execution_count": null,
      "outputs": [
        {
          "output_type": "stream",
          "text": [
            "['70' '80' '82' ... '106' '109' '82']\n"
          ],
          "name": "stdout"
        }
      ]
    },
    {
      "cell_type": "code",
      "metadata": {
        "id": "4a7Ko3xyl4at",
        "colab": {
          "base_uri": "https://localhost:8080/",
          "height": 134
        },
        "outputId": "949e773e-ee66-4310-ef70-0c3018fb1eaa"
      },
      "source": [
        "width, height = 48, 48\n",
        "img.reshape(width, height)"
      ],
      "execution_count": null,
      "outputs": [
        {
          "output_type": "execute_result",
          "data": {
            "text/plain": [
              "array([['70', '80', '82', ..., '52', '43', '41'],\n",
              "       ['65', '61', '58', ..., '56', '52', '44'],\n",
              "       ['50', '43', '54', ..., '49', '56', '47'],\n",
              "       ...,\n",
              "       ['91', '65', '42', ..., '72', '56', '43'],\n",
              "       ['77', '82', '79', ..., '105', '70', '46'],\n",
              "       ['77', '72', '84', ..., '106', '109', '82']], dtype='<U3')"
            ]
          },
          "metadata": {
            "tags": []
          },
          "execution_count": 9
        }
      ]
    },
    {
      "cell_type": "markdown",
      "metadata": {
        "id": "Y0nKwWo4nRrZ"
      },
      "source": [
        "# Preprocessing"
      ]
    },
    {
      "cell_type": "code",
      "metadata": {
        "id": "y7bWle7hcV5l",
        "colab": {
          "base_uri": "https://localhost:8080/",
          "height": 67
        },
        "outputId": "3da2db51-c14f-467b-f16e-892c0d187d5d"
      },
      "source": [
        "# Splitting dataset into training, validation and test sets\n",
        "data_train = data[data['Usage']=='Training'].copy()\n",
        "data_val   = data[data['Usage']=='PublicTest'].copy()\n",
        "data_test  = data[data['Usage']=='PrivateTest'].copy()\n",
        "print(\"train shape: {} \\nvalidation shape: {} \\ntest shape: {}\".format(data_train.shape, data_val.shape, data_test.shape))"
      ],
      "execution_count": null,
      "outputs": [
        {
          "output_type": "stream",
          "text": [
            "train shape: (28709, 3) \n",
            "validation shape: (3589, 3) \n",
            "test shape: (3589, 3)\n"
          ],
          "name": "stdout"
        }
      ]
    },
    {
      "cell_type": "code",
      "metadata": {
        "id": "_jhNsDdynOqV",
        "colab": {
          "base_uri": "https://localhost:8080/",
          "height": 34
        },
        "outputId": "ab9ed30f-876d-428e-9753-2499115d754f"
      },
      "source": [
        "# Only one test set is required hence adding data_val to data_train\n",
        "data_train = pd.concat([data_train, data_val])\n",
        "data_train.shape"
      ],
      "execution_count": null,
      "outputs": [
        {
          "output_type": "execute_result",
          "data": {
            "text/plain": [
              "(32298, 3)"
            ]
          },
          "metadata": {
            "tags": []
          },
          "execution_count": 11
        }
      ]
    },
    {
      "cell_type": "code",
      "metadata": {
        "id": "SicHB6tFnPUP",
        "colab": {
          "base_uri": "https://localhost:8080/",
          "height": 50
        },
        "outputId": "3d65bae6-6f34-4a12-926b-73eb1d71d11a"
      },
      "source": [
        "# Convert pixel data from string to integers\n",
        "data_train['pixels'] = data_train['pixels'].apply(lambda pixel_sequence: [int(pixel) for pixel in pixel_sequence.split()])\n",
        "data_test['pixels'] = data_test['pixels'].apply(lambda pixel_sequence: [int(pixel) for pixel in pixel_sequence.split()])\n",
        "\n",
        "# Normalizing pixel data\n",
        "train_X = np.array(data_train['pixels'].tolist(), dtype='float32').reshape(-1,width, height,1)/255.0\n",
        "test_X = np.array(data_test['pixels'].tolist(), dtype='float32').reshape(-1,width, height,1)/255.0\n",
        "print(\"train data :\",train_X.shape)\n",
        "print(\"test data  :\",test_X.shape)"
      ],
      "execution_count": null,
      "outputs": [
        {
          "output_type": "stream",
          "text": [
            "train data : (32298, 48, 48, 1)\n",
            "test data  : (3589, 48, 48, 1)\n"
          ],
          "name": "stdout"
        }
      ]
    },
    {
      "cell_type": "code",
      "metadata": {
        "id": "CGzb9fqpnPtJ",
        "colab": {
          "base_uri": "https://localhost:8080/",
          "height": 50
        },
        "outputId": "6090e1c1-cbde-4d11-8fd4-dd96371d7d63"
      },
      "source": [
        "from keras.utils import to_categorical\n",
        "\n",
        "# One Hot encoding the labels\n",
        "num_classes = 7\n",
        "train_Y = to_categorical(data_train['emotion'], num_classes)  \n",
        "test_Y = to_categorical(data_test['emotion'], num_classes)\n",
        "#train_Y\n",
        "print(\"train data :\",train_Y.shape)\n",
        "print(\"test data  :\",test_Y.shape)"
      ],
      "execution_count": null,
      "outputs": [
        {
          "output_type": "stream",
          "text": [
            "train data : (32298, 7)\n",
            "test data  : (3589, 7)\n"
          ],
          "name": "stdout"
        }
      ]
    },
    {
      "cell_type": "markdown",
      "metadata": {
        "id": "aL4vfgZCtiaC"
      },
      "source": [
        "# Building CNN model"
      ]
    },
    {
      "cell_type": "code",
      "metadata": {
        "id": "o-hbUKplnP9H"
      },
      "source": [
        "# Importing required pacakages\n",
        "#from keras.callbacks import EarlyStopping\n",
        "from keras.models import Sequential\n",
        "from keras.layers import Conv2D, MaxPooling2D, BatchNormalization, Activation, Flatten, Dense, Dropout\n",
        "from keras.losses import categorical_crossentropy\n",
        "from sklearn.metrics import accuracy_score, classification_report, confusion_matrix\n",
        "from keras.optimizers import Adam\n",
        "#from keras.regularizers import l2\n",
        "from keras.preprocessing.image import ImageDataGenerator\n",
        "#import seaborn as sns\n",
        "\n",
        "#import os\n",
        "#import warnings\n",
        "#warnings.filterwarnings(\"ignore\")"
      ],
      "execution_count": null,
      "outputs": []
    },
    {
      "cell_type": "code",
      "metadata": {
        "id": "r_i-R9dicVEb"
      },
      "source": [
        "#Initializing Parameters (num_classes, width and height are already initialized)\n",
        "epochs = 30\n",
        "batch_size = 64\n",
        "features = 64"
      ],
      "execution_count": null,
      "outputs": []
    },
    {
      "cell_type": "code",
      "metadata": {
        "id": "8lyVihI2cWEa",
        "colab": {
          "base_uri": "https://localhost:8080/",
          "height": 1000
        },
        "outputId": "d95752e6-3c95-4de3-e099-72aefd4d9cd6"
      },
      "source": [
        "# CNN model\n",
        "\n",
        "model = Sequential()\n",
        "\n",
        "# module 1\n",
        "model.add(Conv2D(2*2*features, kernel_size=(3, 3), input_shape=(width, height, 1), data_format='channels_last'))\n",
        "model.add(BatchNormalization())\n",
        "model.add(Activation('relu'))\n",
        "model.add(Conv2D(2*2*features, kernel_size=(3, 3), padding='same'))\n",
        "model.add(BatchNormalization())\n",
        "model.add(Activation('relu'))\n",
        "model.add(MaxPooling2D(pool_size=(2, 2), strides=(2, 2)))\n",
        "\n",
        "# module 2\n",
        "model.add(Conv2D(2*features, kernel_size=(3, 3), padding='same'))\n",
        "model.add(BatchNormalization())\n",
        "model.add(Activation('relu'))\n",
        "model.add(Conv2D(2*features, kernel_size=(3, 3), padding='same'))\n",
        "model.add(BatchNormalization())\n",
        "model.add(Activation('relu'))\n",
        "model.add(MaxPooling2D(pool_size=(2, 2), strides=(2, 2)))\n",
        "\n",
        "# module 3\n",
        "model.add(Conv2D(features, kernel_size=(3, 3), padding='same'))\n",
        "model.add(BatchNormalization())\n",
        "model.add(Activation('relu'))\n",
        "model.add(Conv2D(features, kernel_size=(3, 3), padding='same'))\n",
        "model.add(BatchNormalization())\n",
        "model.add(Activation('relu'))\n",
        "model.add(MaxPooling2D(pool_size=(2, 2), strides=(2, 2)))\n",
        "\n",
        "# flatten\n",
        "model.add(Flatten())\n",
        "\n",
        "# dense 1\n",
        "model.add(Dense(2*2*2*features))\n",
        "model.add(BatchNormalization())\n",
        "model.add(Activation('relu'))\n",
        "\n",
        "# dense 2\n",
        "model.add(Dense(2*2*features))\n",
        "model.add(BatchNormalization())\n",
        "model.add(Activation('relu'))\n",
        "\n",
        "# dense 3\n",
        "model.add(Dense(2*features))\n",
        "model.add(BatchNormalization())\n",
        "model.add(Activation('relu'))\n",
        "\n",
        "# output layer\n",
        "model.add(Dense(num_classes, activation='softmax'))\n",
        "\n",
        "# compile model\n",
        "model.compile(loss='categorical_crossentropy', \n",
        "              optimizer=Adam(lr=0.001, beta_1=0.9, beta_2=0.999, epsilon=1e-7), \n",
        "              metrics=['accuracy'])\n",
        "\n",
        "model.summary()"
      ],
      "execution_count": null,
      "outputs": [
        {
          "output_type": "stream",
          "text": [
            "Model: \"sequential\"\n",
            "_________________________________________________________________\n",
            "Layer (type)                 Output Shape              Param #   \n",
            "=================================================================\n",
            "conv2d (Conv2D)              (None, 46, 46, 256)       2560      \n",
            "_________________________________________________________________\n",
            "batch_normalization (BatchNo (None, 46, 46, 256)       1024      \n",
            "_________________________________________________________________\n",
            "activation (Activation)      (None, 46, 46, 256)       0         \n",
            "_________________________________________________________________\n",
            "conv2d_1 (Conv2D)            (None, 46, 46, 256)       590080    \n",
            "_________________________________________________________________\n",
            "batch_normalization_1 (Batch (None, 46, 46, 256)       1024      \n",
            "_________________________________________________________________\n",
            "activation_1 (Activation)    (None, 46, 46, 256)       0         \n",
            "_________________________________________________________________\n",
            "max_pooling2d (MaxPooling2D) (None, 23, 23, 256)       0         \n",
            "_________________________________________________________________\n",
            "conv2d_2 (Conv2D)            (None, 23, 23, 128)       295040    \n",
            "_________________________________________________________________\n",
            "batch_normalization_2 (Batch (None, 23, 23, 128)       512       \n",
            "_________________________________________________________________\n",
            "activation_2 (Activation)    (None, 23, 23, 128)       0         \n",
            "_________________________________________________________________\n",
            "conv2d_3 (Conv2D)            (None, 23, 23, 128)       147584    \n",
            "_________________________________________________________________\n",
            "batch_normalization_3 (Batch (None, 23, 23, 128)       512       \n",
            "_________________________________________________________________\n",
            "activation_3 (Activation)    (None, 23, 23, 128)       0         \n",
            "_________________________________________________________________\n",
            "max_pooling2d_1 (MaxPooling2 (None, 11, 11, 128)       0         \n",
            "_________________________________________________________________\n",
            "conv2d_4 (Conv2D)            (None, 11, 11, 64)        73792     \n",
            "_________________________________________________________________\n",
            "batch_normalization_4 (Batch (None, 11, 11, 64)        256       \n",
            "_________________________________________________________________\n",
            "activation_4 (Activation)    (None, 11, 11, 64)        0         \n",
            "_________________________________________________________________\n",
            "conv2d_5 (Conv2D)            (None, 11, 11, 64)        36928     \n",
            "_________________________________________________________________\n",
            "batch_normalization_5 (Batch (None, 11, 11, 64)        256       \n",
            "_________________________________________________________________\n",
            "activation_5 (Activation)    (None, 11, 11, 64)        0         \n",
            "_________________________________________________________________\n",
            "max_pooling2d_2 (MaxPooling2 (None, 5, 5, 64)          0         \n",
            "_________________________________________________________________\n",
            "flatten (Flatten)            (None, 1600)              0         \n",
            "_________________________________________________________________\n",
            "dense (Dense)                (None, 512)               819712    \n",
            "_________________________________________________________________\n",
            "batch_normalization_6 (Batch (None, 512)               2048      \n",
            "_________________________________________________________________\n",
            "activation_6 (Activation)    (None, 512)               0         \n",
            "_________________________________________________________________\n",
            "dense_1 (Dense)              (None, 256)               131328    \n",
            "_________________________________________________________________\n",
            "batch_normalization_7 (Batch (None, 256)               1024      \n",
            "_________________________________________________________________\n",
            "activation_7 (Activation)    (None, 256)               0         \n",
            "_________________________________________________________________\n",
            "dense_2 (Dense)              (None, 128)               32896     \n",
            "_________________________________________________________________\n",
            "batch_normalization_8 (Batch (None, 128)               512       \n",
            "_________________________________________________________________\n",
            "activation_8 (Activation)    (None, 128)               0         \n",
            "_________________________________________________________________\n",
            "dense_3 (Dense)              (None, 7)                 903       \n",
            "=================================================================\n",
            "Total params: 2,137,991\n",
            "Trainable params: 2,134,407\n",
            "Non-trainable params: 3,584\n",
            "_________________________________________________________________\n"
          ],
          "name": "stdout"
        }
      ]
    },
    {
      "cell_type": "markdown",
      "metadata": {
        "id": "OGCgJKYV5LGT"
      },
      "source": [
        "# Data Augmentation"
      ]
    },
    {
      "cell_type": "code",
      "metadata": {
        "id": "o2SeoTWlcWN_"
      },
      "source": [
        "# Generating data\n",
        "\n",
        "data_generator = ImageDataGenerator(\n",
        "                        featurewise_center=False,\n",
        "                        featurewise_std_normalization=False,\n",
        "                        rotation_range=10,\n",
        "                        width_shift_range=0.1,\n",
        "                        height_shift_range=0.1,\n",
        "                        zoom_range=0.1,\n",
        "                        horizontal_flip=True)\n",
        "\n",
        "train_aug = data_generator.flow(train_X, train_Y, batch_size)\n",
        "test_aug =  data_generator.flow(test_X, test_Y,batch_size)"
      ],
      "execution_count": null,
      "outputs": []
    },
    {
      "cell_type": "markdown",
      "metadata": {
        "id": "vouKWCdL6VTX"
      },
      "source": [
        "# Train Model"
      ]
    },
    {
      "cell_type": "code",
      "metadata": {
        "id": "JoJ7vtPvcWXM",
        "colab": {
          "base_uri": "https://localhost:8080/",
          "height": 1000
        },
        "outputId": "42f02a11-cf2f-458e-c54c-50cb84bc223f"
      },
      "source": [
        "# Train model\n",
        "history = model.fit(train_aug,\n",
        "      steps_per_epoch = len(train_X) / batch_size,  # 2000 images = batch_size * steps\n",
        "      epochs = epochs,\n",
        "      validation_data = test_aug,\n",
        "      verbose = 1)"
      ],
      "execution_count": null,
      "outputs": [
        {
          "output_type": "stream",
          "text": [
            "Epoch 1/30\n",
            "505/504 [==============================] - 65s 129ms/step - loss: 1.6916 - accuracy: 0.3241 - val_loss: 1.9006 - val_accuracy: 0.3073\n",
            "Epoch 2/30\n",
            "505/504 [==============================] - 63s 126ms/step - loss: 1.4033 - accuracy: 0.4564 - val_loss: 1.3964 - val_accuracy: 0.4570\n",
            "Epoch 3/30\n",
            "505/504 [==============================] - 64s 126ms/step - loss: 1.2525 - accuracy: 0.5187 - val_loss: 1.3721 - val_accuracy: 0.4812\n",
            "Epoch 4/30\n",
            "505/504 [==============================] - 64s 126ms/step - loss: 1.1750 - accuracy: 0.5520 - val_loss: 1.2129 - val_accuracy: 0.5364\n",
            "Epoch 5/30\n",
            "505/504 [==============================] - 64s 126ms/step - loss: 1.1216 - accuracy: 0.5735 - val_loss: 1.2377 - val_accuracy: 0.5272\n",
            "Epoch 6/30\n",
            "505/504 [==============================] - 64s 126ms/step - loss: 1.0790 - accuracy: 0.5901 - val_loss: 1.1366 - val_accuracy: 0.5539\n",
            "Epoch 7/30\n",
            "505/504 [==============================] - 64s 126ms/step - loss: 1.0474 - accuracy: 0.6047 - val_loss: 1.1785 - val_accuracy: 0.5542\n",
            "Epoch 8/30\n",
            "505/504 [==============================] - 64s 126ms/step - loss: 1.0236 - accuracy: 0.6124 - val_loss: 1.2941 - val_accuracy: 0.4982\n",
            "Epoch 9/30\n",
            "505/504 [==============================] - 64s 126ms/step - loss: 1.0019 - accuracy: 0.6198 - val_loss: 1.1023 - val_accuracy: 0.5832\n",
            "Epoch 10/30\n",
            "505/504 [==============================] - 64s 126ms/step - loss: 0.9806 - accuracy: 0.6277 - val_loss: 1.0542 - val_accuracy: 0.6133\n",
            "Epoch 11/30\n",
            "505/504 [==============================] - 64s 126ms/step - loss: 0.9586 - accuracy: 0.6387 - val_loss: 1.0735 - val_accuracy: 0.5993\n",
            "Epoch 12/30\n",
            "505/504 [==============================] - 64s 126ms/step - loss: 0.9235 - accuracy: 0.6523 - val_loss: 1.0202 - val_accuracy: 0.6174\n",
            "Epoch 14/30\n",
            "505/504 [==============================] - 64s 126ms/step - loss: 0.9075 - accuracy: 0.6576 - val_loss: 1.0485 - val_accuracy: 0.6147\n",
            "Epoch 15/30\n",
            "505/504 [==============================] - 64s 126ms/step - loss: 0.8930 - accuracy: 0.6635 - val_loss: 1.0631 - val_accuracy: 0.6041\n",
            "Epoch 16/30\n",
            "505/504 [==============================] - 64s 126ms/step - loss: 0.8801 - accuracy: 0.6673 - val_loss: 1.1289 - val_accuracy: 0.5882\n",
            "Epoch 17/30\n",
            "505/504 [==============================] - 64s 126ms/step - loss: 0.8600 - accuracy: 0.6768 - val_loss: 1.0541 - val_accuracy: 0.6144\n",
            "Epoch 18/30\n",
            "505/504 [==============================] - 64s 126ms/step - loss: 0.8517 - accuracy: 0.6784 - val_loss: 0.9896 - val_accuracy: 0.6289\n",
            "Epoch 19/30\n",
            "505/504 [==============================] - 64s 126ms/step - loss: 0.8398 - accuracy: 0.6818 - val_loss: 1.0089 - val_accuracy: 0.6266\n",
            "Epoch 20/30\n",
            "505/504 [==============================] - 64s 126ms/step - loss: 0.8164 - accuracy: 0.6899 - val_loss: 0.9882 - val_accuracy: 0.6411\n",
            "Epoch 21/30\n",
            "505/504 [==============================] - 64s 126ms/step - loss: 0.8079 - accuracy: 0.6969 - val_loss: 1.0030 - val_accuracy: 0.6314\n",
            "Epoch 22/30\n",
            "505/504 [==============================] - 64s 126ms/step - loss: 0.7988 - accuracy: 0.7004 - val_loss: 1.0340 - val_accuracy: 0.6096\n",
            "Epoch 23/30\n",
            "505/504 [==============================] - 64s 126ms/step - loss: 0.7842 - accuracy: 0.7053 - val_loss: 0.9931 - val_accuracy: 0.6378\n",
            "Epoch 24/30\n",
            "505/504 [==============================] - 64s 126ms/step - loss: 0.7702 - accuracy: 0.7095 - val_loss: 0.9872 - val_accuracy: 0.6381\n",
            "Epoch 25/30\n",
            "505/504 [==============================] - 64s 126ms/step - loss: 0.7542 - accuracy: 0.7192 - val_loss: 0.9578 - val_accuracy: 0.6503\n",
            "Epoch 26/30\n",
            "505/504 [==============================] - 64s 126ms/step - loss: 0.7476 - accuracy: 0.7155 - val_loss: 1.0098 - val_accuracy: 0.6227\n",
            "Epoch 27/30\n",
            "505/504 [==============================] - 64s 126ms/step - loss: 0.7315 - accuracy: 0.7252 - val_loss: 0.9756 - val_accuracy: 0.6367\n",
            "Epoch 28/30\n",
            "505/504 [==============================] - 64s 126ms/step - loss: 0.7283 - accuracy: 0.7271 - val_loss: 0.9949 - val_accuracy: 0.6473\n",
            "Epoch 29/30\n",
            "505/504 [==============================] - 64s 127ms/step - loss: 0.7129 - accuracy: 0.7322 - val_loss: 0.9569 - val_accuracy: 0.6637\n",
            "Epoch 30/30\n",
            "505/504 [==============================] - 64s 126ms/step - loss: 0.7024 - accuracy: 0.7350 - val_loss: 1.0471 - val_accuracy: 0.6356\n"
          ],
          "name": "stdout"
        }
      ]
    },
    {
      "cell_type": "code",
      "metadata": {
        "id": "rdSpV3QOcWlR",
        "colab": {
          "base_uri": "https://localhost:8080/",
          "height": 84
        },
        "outputId": "dbda0f6e-525e-444a-d619-86786f771bc6"
      },
      "source": [
        "# Evaluating model\n",
        "train_score = model.evaluate(train_X, train_Y, verbose=0)\n",
        "print('Train loss:', train_score[0])\n",
        "print('Train accuracy:', 100*train_score[1])\n",
        " \n",
        "test_score = model.evaluate(test_X, test_Y, verbose=0)\n",
        "print('Test loss:', test_score[0])\n",
        "print('Test accuracy:', 100*test_score[1])"
      ],
      "execution_count": null,
      "outputs": [
        {
          "output_type": "stream",
          "text": [
            "Train loss: 0.7036926746368408\n",
            "Train accuracy: 73.4782338142395\n",
            "Test loss: 1.0151917934417725\n",
            "Test accuracy: 65.50571322441101\n"
          ],
          "name": "stdout"
        }
      ]
    },
    {
      "cell_type": "code",
      "metadata": {
        "id": "ZOKH7Cju5CLt"
      },
      "source": [
        "# Saving the model\n",
        "model.save(\"model.h5\")"
      ],
      "execution_count": null,
      "outputs": []
    },
    {
      "cell_type": "markdown",
      "metadata": {
        "id": "Q0pwCxB_1gL7"
      },
      "source": [
        "#Visualize Training Performance"
      ]
    },
    {
      "cell_type": "code",
      "metadata": {
        "id": "TN7k29HvcWpz",
        "colab": {
          "base_uri": "https://localhost:8080/",
          "height": 573
        },
        "outputId": "e5b4c3b4-7e4b-4b84-a775-7abde018e8b9"
      },
      "source": [
        "# summarize history for accuracy\n",
        "plt.plot(history.history['accuracy'])\n",
        "plt.plot(history.history['val_accuracy'])\n",
        "plt.title('model accuracy')\n",
        "plt.ylabel('accuracy')\n",
        "plt.xlabel('epoch')\n",
        "plt.legend(['train', 'test'], loc='upper left')\n",
        "plt.show()\n",
        "# summarize history for loss\n",
        "plt.plot(history.history['loss'])\n",
        "plt.plot(history.history['val_loss'])\n",
        "plt.title('model loss')\n",
        "plt.ylabel('loss')\n",
        "plt.xlabel('epoch')\n",
        "plt.legend(['train', 'test'], loc='upper left')\n",
        "plt.show()"
      ],
      "execution_count": null,
      "outputs": [
        {
          "output_type": "display_data",
          "data": {
            "image/png": "[encoded data removed]",
            "text/plain": [
              "<Figure size 432x288 with 1 Axes>"
            ]
          },
          "metadata": {
            "tags": [],
            "needs_background": "light"
          }
        },
        {
          "output_type": "display_data",
          "data": {
            "image/png": "[encoded data removed]",
            "text/plain": [
              "<Figure size 432x288 with 1 Axes>"
            ]
          },
          "metadata": {
            "tags": [],
            "needs_background": "light"
          }
        }
      ]
    },
    {
      "cell_type": "code",
      "metadata": {
        "id": "sD2kK4QRcWvU",
        "colab": {
          "base_uri": "https://localhost:8080/",
          "height": 134
        },
        "outputId": "6dc5ebb8-6b49-47f2-f058-9a250e8b1faa"
      },
      "source": [
        "#Confusion Matrix.\n",
        "pred_list = []; actual_list = []\n",
        "predictions = model.predict(test_X)\n",
        "for i in predictions:\n",
        "  pred_list.append(np.argmax(i))\n",
        "for i in test_Y:\n",
        "    actual_list.append(np.argmax(i))\n",
        "confusion_matrix(actual_list, pred_list)"
      ],
      "execution_count": null,
      "outputs": [
        {
          "output_type": "execute_result",
          "data": {
            "text/plain": [
              "array([[281,   4,  31,  11,  50,  11, 103],\n",
              "       [ 17,  29,   1,   2,   3,   1,   2],\n",
              "       [ 68,   2, 181,  19, 102,  42, 114],\n",
              "       [ 14,   0,   9, 769,  11,  12,  64],\n",
              "       [ 41,   1,  28,  28, 292,   6, 198],\n",
              "       [ 12,   1,  47,  25,  10, 294,  27],\n",
              "       [ 10,   2,  12,  24,  69,   4, 505]])"
            ]
          },
          "metadata": {
            "tags": []
          },
          "execution_count": 24
        }
      ]
    },
    {
      "cell_type": "markdown",
      "metadata": {
        "id": "XyBNknZG4q4K"
      },
      "source": [
        "# Testing Captured Images"
      ]
    },
    {
      "cell_type": "code",
      "metadata": {
        "id": "hxqertjXlzTs"
      },
      "source": [
        "#function for drawing bar chart for emotion preditions\n",
        "def emotion_analysis(emotions):\n",
        "    objects = ('angry', 'disgust', 'fear', 'happy', 'sad', 'surprise', 'neutral')\n",
        "    y_pos = np.arange(len(objects))\n",
        "    \n",
        "    plt.bar(y_pos, emotions, align='center', alpha=0.5)\n",
        "    plt.xticks(y_pos, objects)\n",
        "    plt.ylabel('percentage')\n",
        "    plt.title('emotion')\n",
        "    \n",
        "    plt.show()"
      ],
      "execution_count": null,
      "outputs": []
    },
    {
      "cell_type": "code",
      "metadata": {
        "id": "CuGGvth621Xn",
        "colab": {
          "base_uri": "https://localhost:8080/",
          "height": 35
        },
        "outputId": "9d46b6af-16e8-436c-f041-a96077f00604"
      },
      "source": [
        "# This code captures an image on colab\n",
        "\n",
        "from IPython.display import display, Javascript\n",
        "from google.colab.output import eval_js\n",
        "from base64 import b64decode\n",
        "\n",
        "def take_photo(filename='photo.jpg', quality=0.99):\n",
        "  js = Javascript('''\n",
        "    async function takePhoto(quality) {\n",
        "      const div = document.createElement('div');\n",
        "      const capture = document.createElement('button');\n",
        "      capture.textContent = 'Capture';\n",
        "      div.appendChild(capture);\n",
        "\n",
        "      const video = document.createElement('video');\n",
        "      video.style.display = 'block';\n",
        "      const stream = await navigator.mediaDevices.getUserMedia({video: true});\n",
        "\n",
        "      document.body.appendChild(div);\n",
        "      div.appendChild(video);\n",
        "      video.srcObject = stream;\n",
        "      await video.play();\n",
        "\n",
        "      // Resize the output to fit the video element.\n",
        "      google.colab.output.setIframeHeight(document.documentElement.scrollHeight, true);\n",
        "\n",
        "      // Wait for Capture to be clicked.\n",
        "      await new Promise((resolve) => capture.onclick = resolve);\n",
        "\n",
        "      const canvas = document.createElement('canvas');\n",
        "      canvas.width = video.videoWidth;\n",
        "      canvas.height = video.videoHeight;\n",
        "      canvas.getContext('2d').drawImage(video, 0, 0);\n",
        "      stream.getVideoTracks()[0].stop();\n",
        "      div.remove();\n",
        "      return canvas.toDataURL('image/jpeg', quality);\n",
        "    }\n",
        "    ''')\n",
        "  display(js)\n",
        "  data = eval_js('takePhoto({})'.format(quality))\n",
        "  binary = b64decode(data.split(',')[1])\n",
        "  with open(filename, 'wb') as f:\n",
        "    f.write(binary)\n",
        "  return filename\n",
        "\n",
        "take_photo()"
      ],
      "execution_count": null,
      "outputs": [
        {
          "output_type": "display_data",
          "data": {
            "application/javascript": [
              "\n",
              "    async function takePhoto(quality) {\n",
              "      const div = document.createElement('div');\n",
              "      const capture = document.createElement('button');\n",
              "      capture.textContent = 'Capture';\n",
              "      div.appendChild(capture);\n",
              "\n",
              "      const video = document.createElement('video');\n",
              "      video.style.display = 'block';\n",
              "      const stream = await navigator.mediaDevices.getUserMedia({video: true});\n",
              "\n",
              "      document.body.appendChild(div);\n",
              "      div.appendChild(video);\n",
              "      video.srcObject = stream;\n",
              "      await video.play();\n",
              "\n",
              "      // Resize the output to fit the video element.\n",
              "      google.colab.output.setIframeHeight(document.documentElement.scrollHeight, true);\n",
              "\n",
              "      // Wait for Capture to be clicked.\n",
              "      await new Promise((resolve) => capture.onclick = resolve);\n",
              "\n",
              "      const canvas = document.createElement('canvas');\n",
              "      canvas.width = video.videoWidth;\n",
              "      canvas.height = video.videoHeight;\n",
              "      canvas.getContext('2d').drawImage(video, 0, 0);\n",
              "      stream.getVideoTracks()[0].stop();\n",
              "      div.remove();\n",
              "      return canvas.toDataURL('image/jpeg', quality);\n",
              "    }\n",
              "    "
            ],
            "text/plain": [
              "<IPython.core.display.Javascript object>"
            ]
          },
          "metadata": {
            "tags": []
          }
        },
        {
          "output_type": "execute_result",
          "data": {
            "application/vnd.google.colaboratory.intrinsic+json": {
              "type": "string"
            },
            "text/plain": [
              "'photo.jpg'"
            ]
          },
          "metadata": {
            "tags": []
          },
          "execution_count": 33
        }
      ]
    },
    {
      "cell_type": "code",
      "metadata": {
        "id": "wSgE0Bdv5YaO"
      },
      "source": [
        "# This code crops the face from photo.jpg and saves it as capture.jpg\n",
        "\n",
        "#Face crop algorithm\n",
        "import cv2\n",
        "from google.colab.patches import cv2_imshow\n",
        "\n",
        "def facecrop(image):  \n",
        "    facedata = \"haarcascade_frontalface_default.xml\"\n",
        "    cascade = cv2.CascadeClassifier(facedata)\n",
        "    img = cv2.imread(image)\n",
        "\n",
        "    try:\n",
        "    \n",
        "        minisize = (img.shape[1],img.shape[0])\n",
        "        miniframe = cv2.resize(img, minisize)\n",
        "\n",
        "        faces = cascade.detectMultiScale(miniframe)\n",
        "\n",
        "        for f in faces:\n",
        "            x, y, w, h = [ v for v in f ]\n",
        "            cv2.rectangle(img, (x,y), (x+w,y+h), (0,255,0), 2)\n",
        "            sub_face = img[y:y+h, x:x+w]\n",
        "            cv2.imwrite('Capture.jpg', sub_face)\n",
        "\n",
        "    except Exception as e:\n",
        "        print (e)\n",
        "\n",
        "    cv2_imshow(img)\n",
        "\n",
        "if __name__ == '__main__':\n",
        "    facecrop('photo.jpg')"
      ],
      "execution_count": null,
      "outputs": []
    },
    {
      "cell_type": "code",
      "metadata": {
        "id": "9HnmbFMa6C0T"
      },
      "source": [
        "#Testing the 'Capture' file.\n",
        "\n",
        "from keras.preprocessing import image\n",
        "from keras.preprocessing.image import ImageDataGenerator\n",
        "\n",
        "import numpy as np\n",
        "import matplotlib.pyplot as plt\n",
        "\n",
        "\n",
        "file = 'Capture.jpg'\n",
        "true_image = image.load_img(file)\n",
        "img = image.load_img(file,color_mode=\"grayscale\", target_size=(48, 48))\n",
        "\n",
        "x = image.img_to_array(img)\n",
        "x = np.expand_dims(x, axis = 0)\n",
        "\n",
        "x /= 255\n",
        "\n",
        "custom = model.predict(x)\n",
        "emotion_analysis(custom[0])\n",
        "\n",
        "x = np.array(x, 'float32')\n",
        "x = x.reshape([48, 48]);\n",
        "\n",
        "plt.gray()\n",
        "plt.imshow(true_image)\n",
        "plt.show()"
      ],
      "execution_count": null,
      "outputs": []
    },
    {
      "cell_type": "code",
      "metadata": {
        "id": "H350y73o6ijK"
      },
      "source": [
        ""
      ],
      "execution_count": null,
      "outputs": []
    }
  ]
}